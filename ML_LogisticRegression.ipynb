{
 "cells": [
  {
   "cell_type": "markdown",
   "id": "0a1c5fc1-f4f3-48be-86f3-1afd5ef19668",
   "metadata": {},
   "source": [
    "### Problem 3"
   ]
  },
  {
   "cell_type": "code",
   "execution_count": 1,
   "id": "50a8ecc3-96f1-4b02-9bbd-3c002dbfb830",
   "metadata": {},
   "outputs": [],
   "source": [
    "import pandas as pd\n",
    "import numpy as np\n",
    "from sklearn.linear_model import LogisticRegression\n",
    "from sklearn.metrics import accuracy_score, roc_curve, auc, confusion_matrix, roc_auc_score\n",
    "import statsmodels.formula.api as smf\n",
    "import matplotlib.pyplot as plt"
   ]
  },
  {
   "cell_type": "code",
   "execution_count": 2,
   "id": "d331d50b-eed7-494d-bf05-120c0e029fea",
   "metadata": {},
   "outputs": [],
   "source": [
    "train = pd.read_csv('framingham_train.csv')\n",
    "test  = pd.read_csv('framingham_test.csv')"
   ]
  },
  {
   "cell_type": "code",
   "execution_count": 3,
   "id": "49c1032b-feec-4ebd-9786-b6ba241de9b8",
   "metadata": {},
   "outputs": [],
   "source": [
    "# Target and features\n",
    "y_train = train['TenYearCHD'].astype(int)\n",
    "y_test  = test['TenYearCHD'].astype(int)\n",
    "\n",
    "feature_cols = [c for c in train.columns if c != 'TenYearCHD']\n",
    "X_train = train[feature_cols]\n",
    "X_test  = test[feature_cols]"
   ]
  },
  {
   "cell_type": "markdown",
   "id": "8b9e4a5e-45f6-4356-9f2e-6c588f7491ec",
   "metadata": {},
   "source": [
    "### Part 1"
   ]
  },
  {
   "cell_type": "code",
   "execution_count": 4,
   "id": "db6d47a4-4e57-4717-be89-3e4506490b22",
   "metadata": {},
   "outputs": [
    {
     "name": "stdout",
     "output_type": "stream",
     "text": [
      "Optimization terminated successfully.\n",
      "         Current function value: 0.379592\n",
      "         Iterations 7\n",
      "                           Logit Regression Results                           \n",
      "==============================================================================\n",
      "Dep. Variable:             TenYearCHD   No. Observations:                 2560\n",
      "Model:                          Logit   Df Residuals:                     2542\n",
      "Method:                           MLE   Df Model:                           17\n",
      "Date:                Thu, 09 Oct 2025   Pseudo R-squ.:                  0.1147\n",
      "Time:                        00:05:35   Log-Likelihood:                -971.75\n",
      "converged:                       True   LL-Null:                       -1097.6\n",
      "Covariance Type:            nonrobust   LLR p-value:                 9.215e-44\n",
      "===============================================================================================================\n",
      "                                                  coef    std err          z      P>|z|      [0.025      0.975]\n",
      "---------------------------------------------------------------------------------------------------------------\n",
      "Intercept                                      -8.2638      0.839     -9.854      0.000      -9.908      -6.620\n",
      "education[T.High school/GED]                   -0.1922      0.205     -0.938      0.348      -0.594       0.210\n",
      "education[T.Some college/vocational school]    -0.2265      0.231     -0.982      0.326      -0.679       0.226\n",
      "education[T.Some high school]                  -0.0871      0.193     -0.451      0.652      -0.465       0.291\n",
      "male                                            0.6322      0.132      4.793      0.000       0.374       0.891\n",
      "age                                             0.0592      0.008      7.393      0.000       0.044       0.075\n",
      "currentSmoker                                   0.0203      0.187      0.109      0.914      -0.345       0.386\n",
      "cigsPerDay                                      0.0171      0.007      2.360      0.018       0.003       0.031\n",
      "BPMeds                                          0.3086      0.295      1.047      0.295      -0.269       0.886\n",
      "prevalentStroke                                 0.6558      0.532      1.233      0.218      -0.387       1.698\n",
      "prevalentHyp                                    0.2854      0.165      1.734      0.083      -0.037       0.608\n",
      "diabetes                                       -0.0748      0.379     -0.198      0.843      -0.817       0.667\n",
      "totChol                                         0.0031      0.001      2.399      0.016       0.001       0.006\n",
      "sysBP                                           0.0125      0.004      2.775      0.006       0.004       0.021\n",
      "diaBP                                          -0.0032      0.008     -0.420      0.674      -0.018       0.012\n",
      "BMI                                             0.0068      0.015      0.450      0.653      -0.023       0.036\n",
      "heartRate                                      -0.0009      0.005     -0.189      0.850      -0.011       0.009\n",
      "glucose                                         0.0086      0.003      3.236      0.001       0.003       0.014\n",
      "===============================================================================================================\n"
     ]
    }
   ],
   "source": [
    "logreg = smf.logit(formula = 'TenYearCHD ~ male + age + education + currentSmoker + cigsPerDay + BPMeds + prevalentStroke + prevalentHyp + diabetes + totChol + sysBP + diaBP + BMI + heartRate + glucose',\n",
    "                       data = train).fit()\n",
    "print(logreg.summary())"
   ]
  },
  {
   "cell_type": "markdown",
   "id": "b0572f20-ca7c-4854-955e-ea5ad1379b6a",
   "metadata": {},
   "source": [
    "\n",
    "### Most Important Factors:\n",
    "\n",
    "The most significant risk factors (based on p-value < 0.05) are:\n",
    "- **male** (p < 0.001)\n",
    "- **age** (p < 0.001) \n",
    "- **cigsPerDay** (p = 0.018)\n",
    "- **totChol** (p = 0.016)\n",
    "- **sysBP** (p = 0.006)\n",
    "- **glucose** (p = 0.001)\n",
    "\n",
    "**Description:** For the **age** variable, the coefficient is 0.0592. This means that for each one-year increase in age, the log-odds of developing CHD increases by 0.0592. In terms of odds ratio: $ e^{0.0592} \\approx 1.061 $, meaning each additional year of age increases the odds of CHD by about 6.1%, holding all other factors the same."
   ]
  },
  {
   "cell_type": "markdown",
   "id": "5dab7076-b48d-4d86-98b9-12c4d0819c49",
   "metadata": {},
   "source": [
    "#### Model Evaluation - Confusion Matrix"
   ]
  },
  {
   "cell_type": "code",
   "execution_count": 5,
   "id": "6935e898-103d-46b4-931a-299bf9e6478b",
   "metadata": {},
   "outputs": [
    {
     "name": "stdout",
     "output_type": "stream",
     "text": [
      "Threshold p̄ = 0.185759\n",
      "Accuracy = 0.7341\n",
      "TPR = 0.5671\n",
      "FPR = 0.2366\n",
      "Confusion matrix: TP=93, FP=221, TN=713, FN=71\n"
     ]
    }
   ],
   "source": [
    "p_test = logreg.predict(X_test)             \n",
    "\n",
    "pbar = 150000 / (0.85 * 950000)             \n",
    "y_pred = (p_test >= pbar).astype(int)  \n",
    "\n",
    "# Confusion matrix and metrics\n",
    "tn, fp, fn, tp = confusion_matrix(y_test, y_pred).ravel()\n",
    "accuracy = accuracy_score(y_test, y_pred)\n",
    "tpr = tp / (tp + fn) if (tp + fn) > 0 else 0.0   # True Positive Rate \n",
    "fpr = fp / (fp + tn) if (fp + tn) > 0 else 0.0   # False Positive Rate\n",
    "\n",
    "print(f\"Threshold p̄ = {pbar:.6f}\")\n",
    "print(f\"Accuracy = {accuracy:.4f}\")\n",
    "print(f\"TPR = {tpr:.4f}\")\n",
    "print(f\"FPR = {fpr:.4f}\")\n",
    "print(f\"Confusion matrix: TP={tp}, FP={fp}, TN={tn}, FN={fn}\")"
   ]
  },
  {
   "cell_type": "markdown",
   "id": "f4600c76-d13a-488c-8ca1-287c60f5cceb",
   "metadata": {
    "jp-MarkdownHeadingCollapsed": true
   },
   "source": [
    "**Explanation:**\n",
    "\n",
    "- Accuracy (73.4%): The model makes correct decisions for about 73% of patients. This means it is right most of the time.\n",
    "\n",
    "- True Positive Rate (56.7%): When people actually get heart disease, the model finds about 57% of them. This means it catches more than half of the true heart disease cases.\n",
    "\n",
    "- False Positive Rate (23.7%): When people are healthy, the model wrongly says about 24% of them have high risk. This means about 1 in 4 healthy people get unnecessary medicine."
   ]
  },
  {
   "cell_type": "code",
   "execution_count": 6,
   "id": "f6461b5c-6e0b-454a-86e3-ecea64ad9c28",
   "metadata": {},
   "outputs": [
    {
     "name": "stdout",
     "output_type": "stream",
     "text": [
      "Naive expected cost per patient = $184,790.53\n"
     ]
    }
   ],
   "source": [
    "# assuming that the CHD outcomes in the test set are not affected by the treatment decision.\n",
    "treat = (p_test >= pbar).astype(int)\n",
    "\n",
    "C_chd = 950000.0 # lifetime cost if CHD occurs\n",
    "c_med = 150000.0 # medication cost\n",
    "\n",
    "# Naive: outcomes assumed unchanged by treatment\n",
    "cost_naive = treat * c_med + y_test * C_chd\n",
    "naive_mean = cost_naive.mean()\n",
    "print(f\"Naive expected cost per patient = ${naive_mean:,.2f}\")"
   ]
  },
  {
   "cell_type": "code",
   "execution_count": 7,
   "id": "be3ab4ca-bff2-499c-9ef7-12625504a6e8",
   "metadata": {},
   "outputs": [
    {
     "name": "stdout",
     "output_type": "stream",
     "text": [
      "Treatment-adjusted expected cost per patient = $116,660.56\n"
     ]
    }
   ],
   "source": [
    "# Use adjusted CHD risk\n",
    "risk_factor = 0.15\n",
    "\n",
    "cost_adj = np.where(\n",
    "    treat == 1,\n",
    "    c_med + risk_factor * p_test * C_chd,\n",
    "    p_test * C_chd\n",
    ")\n",
    "adj_mean = cost_adj.mean()\n",
    "print(f\"Treatment-adjusted expected cost per patient = ${adj_mean:,.2f}\")"
   ]
  },
  {
   "cell_type": "markdown",
   "id": "395fcf67-2346-478d-86f0-7bb7597771d0",
   "metadata": {},
   "source": [
    "#### Comment: \n",
    "The adjusted cost (\\$116,660) is more realistic and shows the medication strategy saves money compared to the naive approach (184,790)"
   ]
  },
  {
   "cell_type": "code",
   "execution_count": 8,
   "id": "01bc0f65-7632-4557-ab99-1866c52e2f09",
   "metadata": {},
   "outputs": [
    {
     "name": "stdout",
     "output_type": "stream",
     "text": [
      "Baseline Model (Treat No One):\n",
      "Accuracy = 0.8506\n",
      "TPR = 0.0000\n",
      "FPR = 0.0000\n",
      "Expected cost per patient = $141,894.35\n",
      "Confusion matrix: TP=0, FP=0, TN=934, FN=164\n"
     ]
    }
   ],
   "source": [
    "# Baseline model: treat no one\n",
    "y_pred_baseline = np.zeros(len(y_test))\n",
    "\n",
    "# Confusion matrix and metrics\n",
    "tn_base, fp_base, fn_base, tp_base = confusion_matrix(y_test, y_pred_baseline).ravel()\n",
    "accuracy_base = accuracy_score(y_test, y_pred_baseline)\n",
    "tpr_base = tp_base / (tp_base + fn_base) if (tp_base + fn_base) > 0 else 0.0\n",
    "fpr_base = fp_base / (fp_base + tn_base) if (fp_base + tn_base) > 0 else 0.0\n",
    "\n",
    "# Economic cost for baseline (no treatment for anyone)\n",
    "cost_base = y_test * C_chd\n",
    "base_mean = cost_base.mean()\n",
    "\n",
    "print(f\"Baseline Model (Treat No One):\")\n",
    "print(f\"Accuracy = {accuracy_base:.4f}\")\n",
    "print(f\"TPR = {tpr_base:.4f}\")\n",
    "print(f\"FPR = {fpr_base:.4f}\")\n",
    "print(f\"Expected cost per patient = ${base_mean:,.2f}\")\n",
    "print(f\"Confusion matrix: TP={tp_base}, FP={fp_base}, TN={tn_base}, FN={fn_base}\")"
   ]
  },
  {
   "cell_type": "markdown",
   "id": "d22eb38f-47f1-40c6-a436-a60f967c92c3",
   "metadata": {},
   "source": [
    "**Explanation:**\n",
    "\n",
    "- Accuracy (85%): The baseline appears very accurate because most patients are negative; accuracy here equals the share of non-CHD cases: $934 / 1098 \\approx 0.8506$\n",
    "\n",
    "- This is the baseline so it never predicts positive, so TPR = 0 (it catches none of the true CHD cases) and FPR = 0 (it never false-flags healthy people). Therefore, TPR = 0 and FPR = 0\n",
    "\n",
    "- Economic Cost: The baseline incurs substantial costs $\\text{\\$141,894}$ per patient because all CHD cases occur without any preventive treatment, leading to full $\\text{\\$950,000}$ costs for each of the 164 CHD patients."
   ]
  },
  {
   "cell_type": "code",
   "execution_count": 9,
   "id": "23ced169-2b6b-4726-8c1f-ac603033c0b7",
   "metadata": {},
   "outputs": [
    {
     "name": "stdout",
     "output_type": "stream",
     "text": [
      "Predicted risk = 0.1989 (19.89%)\n",
      "Treatment threshold = 0.1858 (18.58%)\n",
      "RECOMMENDATION: Prescribe preventive medication\n"
     ]
    }
   ],
   "source": [
    "example = {\n",
    "    'male': [1],\n",
    "    'age': [40],\n",
    "    'education': ['Some high school'],\n",
    "    'currentSmoker': [1],\n",
    "    'cigsPerDay': [2],\n",
    "    'BPMeds': [0],\n",
    "    'prevalentStroke': [1],\n",
    "    'prevalentHyp': [1],\n",
    "    'diabetes': [0],\n",
    "    'totChol': [180],\n",
    "    'sysBP': [140],\n",
    "    'diaBP': [100],\n",
    "    'BMI': [28],\n",
    "    'heartRate': [80],\n",
    "    'glucose': [100]\n",
    "}\n",
    "\n",
    "x_ex = pd.DataFrame(example)\n",
    "p_ex = logreg.predict(x_ex).iloc[0] \n",
    "print(f\"Predicted risk = {p_ex:.4f} ({p_ex*100:.2f}%)\")\n",
    "\n",
    "# Compare with threshold\n",
    "print(f\"Treatment threshold = {pbar:.4f} ({pbar*100:.2f}%)\")\n",
    "\n",
    "if p_ex > pbar:\n",
    "    print(\"RECOMMENDATION: Prescribe preventive medication\")\n",
    "else:\n",
    "    print(\"RECOMMENDATION: Do not prescribe medication\")"
   ]
  },
  {
   "cell_type": "markdown",
   "id": "dc3cd7ec-0e24-4f7a-b6b9-b9e9fd1ae934",
   "metadata": {},
   "source": [
    "**Answer**\n",
    "- The predicted probability that this patient will experience CHD in the next ten years is 0.1989 (19.89%).\n",
    "- Base on the $\\bar{p}$ threshold, the physician should prescribe the preventive medication for this patient."
   ]
  },
  {
   "cell_type": "markdown",
   "id": "75801ff7-db93-4f52-98b4-3cfccf793da8",
   "metadata": {},
   "source": [
    "### Part 2"
   ]
  },
  {
   "cell_type": "code",
   "execution_count": 10,
   "id": "450edbb9-6734-43db-9da8-3d8c0fb5421f",
   "metadata": {},
   "outputs": [
    {
     "data": {
      "image/png": "[encoded data removed]",
      "text/plain": [
       "<Figure size 800x600 with 1 Axes>"
      ]
     },
     "metadata": {},
     "output_type": "display_data"
    },
    {
     "name": "stdout",
     "output_type": "stream",
     "text": [
      "Area Under Curve (AUC) on test set: 0.7502\n",
      "\n",
      "At treatment threshold p̄ = 0.1858:\n",
      "True Positive Rate: 0.567\n",
      "False Positive Rate: 0.232\n"
     ]
    }
   ],
   "source": [
    "# Calculate ROC curve\n",
    "fpr, tpr, thresholds = roc_curve(y_test, p_test)\n",
    "roc_auc = auc(fpr, tpr)\n",
    "\n",
    "# Plot ROC curve\n",
    "plt.figure(figsize=(8, 6))\n",
    "plt.plot(fpr, tpr, color = 'red',label=f'ROC curve (AUC = {roc_auc:.3f})')\n",
    "plt.plot([0, 1], [0, 1], color='navy', lw=2, linestyle='--', label='Random classifier')\n",
    "plt.xlim([0.0, 1.0])\n",
    "plt.ylim([0.0, 1.05])\n",
    "plt.xlabel('False Positive Rate')\n",
    "plt.ylabel('True Positive Rate')\n",
    "plt.title('ROC Curve - Logistic Regression Model')\n",
    "plt.legend(loc=\"lower right\")\n",
    "plt.grid(True)\n",
    "plt.show()\n",
    "\n",
    "print(f\"Area Under Curve (AUC) on test set: {roc_auc:.4f}\")\n",
    "\n",
    "# Find performance at optimal threshold (p̄)\n",
    "threshold_idx = np.argmin(np.abs(thresholds - pbar))\n",
    "tpr_at_pbar = tpr[threshold_idx]\n",
    "fpr_at_pbar = fpr[threshold_idx]\n",
    "\n",
    "print(f\"\\nAt treatment threshold p̄ = {pbar:.4f}:\")\n",
    "print(f\"True Positive Rate: {tpr_at_pbar:.3f}\")\n",
    "print(f\"False Positive Rate: {fpr_at_pbar:.3f}\")"
   ]
  },
  {
   "cell_type": "markdown",
   "id": "78555176-defc-40a7-bbc7-bb36f8943219",
   "metadata": {},
   "source": [
    "**Answer**\n",
    "- The ROC curve shows how the model trades off between catching true CHD cases (TPR) and wrongly flagging healthy people (FPR) across many cutoffs. It helps decision-makers compare medicines with different costs and side effects: a cheap, safe drug may use a point with higher TPR; a costly drug with stronger side effects may use a point with lower FPR.\n",
    "At the policy cutoff  $\\bar p = 0.1858$, the model gives **TPR = 0.567** and **FPR = 0.232**.\n",
    "\n",
    "- The curve rises quickly near the origin. This means the model can find many true cases while adding only a moderate number of false alarms at low risk levels. At $\\bar p$, it finds about **57%** of true cases  of true cases while wrongly flagging about **23%** of healthy patients (about 1 in 4).\n",
    "\n",
    "- Area Under the Curve (AUC = 0.7502). This shows the model has good ability to tell apart people who will get CHD from those who will not."
   ]
  },
  {
   "cell_type": "code",
   "execution_count": null,
   "id": "59470ea2-10b6-460f-8c40-f5b4e9daa861",
   "metadata": {},
   "outputs": [],
   "source": []
  }
 ],
 "metadata": {
  "kernelspec": {
   "display_name": "Python 3 (ipykernel)",
   "language": "python",
   "name": "python3"
  },
  "language_info": {
   "codemirror_mode": {
    "name": "ipython",
    "version": 3
   },
   "file_extension": ".py",
   "mimetype": "text/x-python",
   "name": "python",
   "nbconvert_exporter": "python",
   "pygments_lexer": "ipython3",
   "version": "3.12.8"
  }
 },
 "nbformat": 4,
 "nbformat_minor": 5
}
